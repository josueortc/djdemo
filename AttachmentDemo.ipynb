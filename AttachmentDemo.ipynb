{
 "cells": [
  {
   "cell_type": "markdown",
   "metadata": {},
   "source": [
    "# Attachnments and configurable blobs\n",
    "This notebooks demonstrates the use of DataJoint's support for storing complex datatypes (blobs) and file attachments.\n",
    "\n",
    "**blob** in the context of DataJoint refers to an attribute that can store complex data structures such as numeric arrays.\n",
    "\n",
    "**attachment** refers to an attribute that can store an entire file with its filename, etc.\n",
    "\n",
    "These features are currently in pre-release.  To enable them, use the following upgrade command\n",
    "\n",
    "```shell\n",
    "$ pip3 install --upgrade --pre datajoint\n",
    "```"
   ]
  },
  {
   "cell_type": "markdown",
   "metadata": {},
   "source": [
    "As always start by importing DataJoint"
   ]
  },
  {
   "cell_type": "code",
   "execution_count": 1,
   "metadata": {},
   "outputs": [],
   "source": [
    "import datajoint as dj\n",
    "import numpy as np"
   ]
  },
  {
   "cell_type": "code",
   "execution_count": 2,
   "metadata": {},
   "outputs": [
    {
     "name": "stdout",
     "output_type": "stream",
     "text": [
      "Connecting root@db:3306\n"
     ]
    },
    {
     "data": {
      "text/plain": [
       "DataJoint connection (connected) root@db:3306"
      ]
     },
     "execution_count": 2,
     "metadata": {},
     "output_type": "execute_result"
    }
   ],
   "source": [
    "dj.conn()"
   ]
  },
  {
   "cell_type": "code",
   "execution_count": 3,
   "metadata": {},
   "outputs": [],
   "source": [
    "schema = dj.schema('test')"
   ]
  },
  {
   "cell_type": "code",
   "execution_count": 4,
   "metadata": {},
   "outputs": [],
   "source": [
    "@schema\n",
    "class Names(dj.Manual):\n",
    "    definition = \"\"\"\n",
    "    name: varchar(128)  \n",
    "    ---\n",
    "    age: int \n",
    "    email: varchar(64)\n",
    "    height: float\n",
    "    dob: date\n",
    "    picture: blob@stores\n",
    "    \"\"\""
   ]
  },
  {
   "cell_type": "code",
   "execution_count": 5,
   "metadata": {},
   "outputs": [
    {
     "data": {
      "text/plain": [
       "{   'connection.charset': '',\n",
       "    'connection.init_function': None,\n",
       "    'database.host': 'db',\n",
       "    'database.password': 'simple',\n",
       "    'database.port': 3306,\n",
       "    'database.reconnect': True,\n",
       "    'database.user': 'root',\n",
       "    'display.limit': 12,\n",
       "    'display.show_tuple_count': True,\n",
       "    'display.width': 14,\n",
       "    'fetch_format': 'array',\n",
       "    'loglevel': 'INFO',\n",
       "    'safemode': True}"
      ]
     },
     "execution_count": 5,
     "metadata": {},
     "output_type": "execute_result"
    }
   ],
   "source": [
    "dj.config"
   ]
  },
  {
   "cell_type": "markdown",
   "metadata": {},
   "source": [
    "## Configuring stores\n",
    "\n",
    "Now extend the configuration by defining a \"stores\". Here I'm calling a new store `local`, using `file` protocol. You can also use `s3` protocol to connect to AWS S3 or S3 compatible services like [minio](https://min.io/)."
   ]
  },
  {
   "cell_type": "code",
   "execution_count": 6,
   "metadata": {},
   "outputs": [],
   "source": [
    "dj.config['stores'] = {\n",
    "    'local': {\n",
    "        'protocol': 'file',\n",
    "        'location': '/notebooks/data'\n",
    "    }\n",
    "}"
   ]
  },
  {
   "cell_type": "markdown",
   "metadata": {},
   "source": [
    "## Using external blobs"
   ]
  },
  {
   "cell_type": "markdown",
   "metadata": {},
   "source": [
    "To use your new store, simply use `blob@store-name` in place of `blob` or `longblob`"
   ]
  },
  {
   "cell_type": "code",
   "execution_count": 13,
   "metadata": {},
   "outputs": [],
   "source": [
    "@schema\n",
    "class DemoBlob(dj.Manual):\n",
    "    definition = \"\"\"\n",
    "    id:  int   # some id\n",
    "    ---\n",
    "    mydata: blob@local\n",
    "    \"\"\""
   ]
  },
  {
   "cell_type": "markdown",
   "metadata": {},
   "source": [
    "Now the attribute `mydata` is connected to the `local` storage. You can interact with the \"external\" blob field just like you would with a regular blob or longblob field."
   ]
  },
  {
   "cell_type": "markdown",
   "metadata": {},
   "source": [
    "Insert data into it:"
   ]
  },
  {
   "cell_type": "code",
   "execution_count": 14,
   "metadata": {},
   "outputs": [],
   "source": [
    "DemoBlob.insert1((1, np.random.randn(1, 10)))"
   ]
  },
  {
   "cell_type": "markdown",
   "metadata": {},
   "source": [
    "And getting it back out"
   ]
  },
  {
   "cell_type": "code",
   "execution_count": 15,
   "metadata": {},
   "outputs": [
    {
     "data": {
      "text/plain": [
       "array([(1, array([[ 0.01581526,  1.83804671, -0.28828823,  1.56576029, -0.0382735 ,\n",
       "        -1.41737824,  0.74457659,  0.02570973, -0.5727615 ,  0.09865645]]))],\n",
       "      dtype=[('id', '<i8'), ('mydata', 'O')])"
      ]
     },
     "execution_count": 15,
     "metadata": {},
     "output_type": "execute_result"
    }
   ],
   "source": [
    "DemoBlob().fetch()"
   ]
  },
  {
   "cell_type": "markdown",
   "metadata": {},
   "source": [
    "## Using `attach` feature"
   ]
  },
  {
   "cell_type": "markdown",
   "metadata": {},
   "source": [
    "A new data type called `attach` allows you to \"insert\" and \"retrieve\" data files rather directly. Using `attach` dypte by itself will insert the inserted file directly into the database.\n",
    "\n",
    "We recommend you use \"external\" attach, therefore causing the file to be stored in one of the stores you configured."
   ]
  },
  {
   "cell_type": "markdown",
   "metadata": {},
   "source": [
    "Here we are defining a new table with external attach linked to the `local` store."
   ]
  },
  {
   "cell_type": "code",
   "execution_count": 19,
   "metadata": {},
   "outputs": [],
   "source": [
    "@schema\n",
    "class DemoAttach(dj.Manual):\n",
    "    definition = \"\"\"\n",
    "    id: int # some id\n",
    "    ---\n",
    "    image: attach@local\n",
    "    \"\"\""
   ]
  },
  {
   "cell_type": "markdown",
   "metadata": {},
   "source": [
    "To insert data into `attach`, you pass it a valid path to the file you want to insert. Here, I'm passing in a path to the image."
   ]
  },
  {
   "cell_type": "code",
   "execution_count": 20,
   "metadata": {},
   "outputs": [],
   "source": [
    "DemoAttach.insert1((1, './images/random_dog.jpg'))"
   ]
  },
  {
   "cell_type": "markdown",
   "metadata": {},
   "source": [
    "When you fetch an `attach` attribute, two things happen:\n",
    "\n",
    "1. DataJoint **downloads** the file to `download_path` which defaults to your current directory. You can specify this location as an argument into `fetch`\n",
    "2. You are returned the full path to the donwloaded file."
   ]
  },
  {
   "cell_type": "code",
   "execution_count": 26,
   "metadata": {},
   "outputs": [
    {
     "name": "stdout",
     "output_type": "stream",
     "text": [
      "mkdir: cannot create directory ‘downloads’: File exists\n"
     ]
    }
   ],
   "source": [
    "mkdir downloads"
   ]
  },
  {
   "cell_type": "code",
   "execution_count": 27,
   "metadata": {},
   "outputs": [],
   "source": [
    "d = DemoAttach.fetch1(download_path='downloads')"
   ]
  },
  {
   "cell_type": "code",
   "execution_count": 28,
   "metadata": {},
   "outputs": [
    {
     "data": {
      "text/plain": [
       "{'id': 1, 'image': '/notebooks/downloads/random_dog.jpg'}"
      ]
     },
     "execution_count": 28,
     "metadata": {},
     "output_type": "execute_result"
    }
   ],
   "source": [
    "d"
   ]
  },
  {
   "cell_type": "markdown",
   "metadata": {},
   "source": [
    "## Caching\n",
    "By default, the data from blobs and attachments are retrieved from remote stores with every fetch command. \n",
    "For repeated queries, a cache folder may be specified to improve performance and reduce cost of operations.\n",
    "After the first fetch of a given blob or attachment, it will be read from the cache. "
   ]
  },
  {
   "cell_type": "code",
   "execution_count": 29,
   "metadata": {},
   "outputs": [],
   "source": [
    "# configure the cache\n",
    "dj.config['cache'] = './dj-cache'"
   ]
  },
  {
   "cell_type": "code",
   "execution_count": 43,
   "metadata": {},
   "outputs": [],
   "source": [
    "import os\n",
    "# clear the cache for the timing test\n",
    "import shutil\n",
    "if os.path.isdir(dj.config['cache']):\n",
    "    shutil.rmtree(dj.config['cache'])"
   ]
  },
  {
   "cell_type": "markdown",
   "metadata": {},
   "source": [
    "First time fetching will lead to the creation of cache."
   ]
  },
  {
   "cell_type": "code",
   "execution_count": 44,
   "metadata": {},
   "outputs": [
    {
     "name": "stdout",
     "output_type": "stream",
     "text": [
      "CPU times: user 10 ms, sys: 0 ns, total: 10 ms\n",
      "Wall time: 25.5 ms\n"
     ]
    },
    {
     "data": {
      "text/plain": [
       "{'id': 1, 'image': '/notebooks/downloads/random_dog_0009.jpg'}"
      ]
     },
     "execution_count": 44,
     "metadata": {},
     "output_type": "execute_result"
    }
   ],
   "source": [
    "%%time\n",
    "DemoAttach.fetch1(download_path='downloads')"
   ]
  },
  {
   "cell_type": "markdown",
   "metadata": {},
   "source": [
    "Second time, it will retrieve from cache, and should be faster."
   ]
  },
  {
   "cell_type": "code",
   "execution_count": 45,
   "metadata": {},
   "outputs": [
    {
     "name": "stdout",
     "output_type": "stream",
     "text": [
      "CPU times: user 10 ms, sys: 0 ns, total: 10 ms\n",
      "Wall time: 16.4 ms\n"
     ]
    },
    {
     "data": {
      "text/plain": [
       "{'id': 1, 'image': '/notebooks/downloads/random_dog_000a.jpg'}"
      ]
     },
     "execution_count": 45,
     "metadata": {},
     "output_type": "execute_result"
    }
   ],
   "source": [
    "%%time\n",
    "DemoAttach.fetch1(download_path='downloads')"
   ]
  },
  {
   "cell_type": "code",
   "execution_count": 27,
   "metadata": {},
   "outputs": [
    {
     "name": "stdout",
     "output_type": "stream",
     "text": [
      "2.53 s ± 0 ns per loop (mean ± std. dev. of 1 run, 1 loop each)\n"
     ]
    }
   ],
   "source": [
    "%%timeit -n1 -r1\n",
    "\n",
    "# first time no cache\n",
    "files = OriginalFile.fetch('image_file')"
   ]
  },
  {
   "cell_type": "markdown",
   "metadata": {},
   "source": [
    "## Caution"
   ]
  },
  {
   "cell_type": "markdown",
   "metadata": {},
   "source": [
    "In the current `dev` release of DataJoint, fetching `attach`ed file will always result in a new file being placed into your `download_path`, even if there already exists the same file. In the coming up `dev` release, we will perform content check so duplicate files won't be created. In the meantime, we recommend that you delete your retrieved file at the earliest convenience."
   ]
  },
  {
   "cell_type": "markdown",
   "metadata": {},
   "source": [
    "## Deleting\n",
    "Deleting from tables using external storage is just as simple and transaction-safe as with all other kinds of attributes. Simply use the `delete` method:"
   ]
  },
  {
   "cell_type": "code",
   "execution_count": 46,
   "metadata": {},
   "outputs": [
    {
     "name": "stdout",
     "output_type": "stream",
     "text": [
      "About to delete:\n",
      "`test`.`demo_blob`: 1 items\n"
     ]
    },
    {
     "name": "stdin",
     "output_type": "stream",
     "text": [
      "Proceed? [yes, No]:  yes\n"
     ]
    },
    {
     "name": "stdout",
     "output_type": "stream",
     "text": [
      "Committed.\n"
     ]
    }
   ],
   "source": [
    "DemoBlob.delete()"
   ]
  },
  {
   "cell_type": "markdown",
   "metadata": {},
   "source": [
    "However, deleting the entry doesn't immediately lead to the deletion of the data tracked in the external table -- corresponding to the fact that your store will still have the file corresponding to the data."
   ]
  },
  {
   "cell_type": "code",
   "execution_count": 53,
   "metadata": {},
   "outputs": [
    {
     "data": {
      "text/plain": [
       "['local']"
      ]
     },
     "execution_count": 53,
     "metadata": {},
     "output_type": "execute_result"
    }
   ],
   "source": [
    "list(schema.external)"
   ]
  },
  {
   "cell_type": "code",
   "execution_count": 54,
   "metadata": {},
   "outputs": [
    {
     "data": {
      "text/html": [
       "\n",
       "        \n",
       "        <style type=\"text/css\">\n",
       "            .Relation{\n",
       "                border-collapse:collapse;\n",
       "            }\n",
       "            .Relation th{\n",
       "                background: #A0A0A0; color: #ffffff; padding:4px; border:#f0e0e0 1px solid;\n",
       "                font-weight: normal; font-family: monospace; font-size: 100%;\n",
       "            }\n",
       "            .Relation td{\n",
       "                padding:4px; border:#f0e0e0 1px solid; font-size:100%;\n",
       "            }\n",
       "            .Relation tr:nth-child(odd){\n",
       "                background: #ffffff;\n",
       "            }\n",
       "            .Relation tr:nth-child(even){\n",
       "                background: #f3f1ff;\n",
       "            }\n",
       "            /* Tooltip container */\n",
       "            .djtooltip {\n",
       "            }\n",
       "            /* Tooltip text */\n",
       "            .djtooltip .djtooltiptext {\n",
       "                visibility: hidden;\n",
       "                width: 120px;\n",
       "                background-color: black;\n",
       "                color: #fff;\n",
       "                text-align: center;\n",
       "                padding: 5px 0;\n",
       "                border-radius: 6px;\n",
       "                /* Position the tooltip text - see examples below! */\n",
       "                position: absolute;\n",
       "                z-index: 1;\n",
       "            }\n",
       "            #primary {\n",
       "                font-weight: bold;\n",
       "                color: black;\n",
       "            }\n",
       "\n",
       "            #nonprimary {\n",
       "                font-weight: normal;\n",
       "                color: white;\n",
       "            }\n",
       "\n",
       "            /* Show the tooltip text when you mouse over the tooltip container */\n",
       "            .djtooltip:hover .djtooltiptext {\n",
       "                visibility: visible;\n",
       "            }\n",
       "        </style>\n",
       "        \n",
       "        <b>external storage tracking</b>\n",
       "            <div style=\"max-height:1000px;max-width:1500px;overflow:auto;\">\n",
       "            <table border=\"1\" class=\"Relation\">\n",
       "                <thead> <tr style=\"text-align: right;\"> <th> <div class=\"djtooltip\">\n",
       "                                <p id=\"primary\">hash</p>\n",
       "                                <span class=\"djtooltiptext\"></span>\n",
       "                            </div></th><th><div class=\"djtooltip\">\n",
       "                                <p id=\"nonprimary\">size</p>\n",
       "                                <span class=\"djtooltiptext\">size of object in bytes</span>\n",
       "                            </div></th><th><div class=\"djtooltip\">\n",
       "                                <p id=\"nonprimary\">timestamp</p>\n",
       "                                <span class=\"djtooltiptext\">automatic timestamp</span>\n",
       "                            </div> </th> </tr> </thead>\n",
       "                <tbody> <tr> <td>293c284a-e17f-5195-860b-99a01737973c</td>\n",
       "<td>117</td>\n",
       "<td>2019-05-02 11:19:30</td></tr><tr><td>3ca8ee87-9083-7f4f-7441-516624d9e06c</td>\n",
       "<td>117</td>\n",
       "<td>2019-04-03 11:30:01</td></tr><tr><td>438aa4ed-6db7-942c-2557-146ba4c385f1</td>\n",
       "<td>136901</td>\n",
       "<td>2019-05-02 11:22:20</td> </tr> </tbody>\n",
       "            </table>\n",
       "            \n",
       "            <p>Total: 3</p></div>\n",
       "            "
      ],
      "text/plain": [
       "*hash          size       timestamp     \n",
       "+------------+ +--------+ +------------+\n",
       "293c284a-e17f- 117        2019-05-02 11:\n",
       "3ca8ee87-9083- 117        2019-04-03 11:\n",
       "438aa4ed-6db7- 136901     2019-05-02 11:\n",
       " (Total: 3)"
      ]
     },
     "execution_count": 54,
     "metadata": {},
     "output_type": "execute_result"
    }
   ],
   "source": [
    "schema.external['local']"
   ]
  },
  {
   "cell_type": "markdown",
   "metadata": {},
   "source": [
    "# Cleanup "
   ]
  },
  {
   "cell_type": "markdown",
   "metadata": {},
   "source": [
    "For the sake of performance, deleting from tables does not immediately remove the data from external storage. \n",
    "The data must cleared periodically at non-critical times. \n",
    "\n",
    "The current contents of external storage can be inspected by querying `schema.external`:"
   ]
  },
  {
   "cell_type": "markdown",
   "metadata": {},
   "source": [
    "You may cleanup the external table using its `delete` method.  It is a transaction-safe operation and can be performed at any time."
   ]
  },
  {
   "cell_type": "code",
   "execution_count": 55,
   "metadata": {},
   "outputs": [
    {
     "name": "stdout",
     "output_type": "stream",
     "text": [
      "Deleted 2 items\n"
     ]
    }
   ],
   "source": [
    "schema.external['local'].delete()"
   ]
  },
  {
   "cell_type": "markdown",
   "metadata": {},
   "source": [
    "After the external table has been updated, the remote stores may be cleaned up too. This operation is **not** transactions safe and may result in race conditions in situations of heavy concurrent read-write use of the same data."
   ]
  },
  {
   "cell_type": "code",
   "execution_count": 56,
   "metadata": {},
   "outputs": [
    {
     "name": "stdout",
     "output_type": "stream",
     "text": [
      "Deleting...\n",
      "/notebooks/data/test/29/3c/293c284ae17f5195860b99a01737973c\n",
      "/notebooks/data/test/3c/a8/3ca8ee8790837f4f7441516624d9e06c\n",
      "Deleted 2 objects\n"
     ]
    }
   ],
   "source": [
    "schema.external['local'].clean()"
   ]
  }
 ],
 "metadata": {
  "kernelspec": {
   "display_name": "Python 3",
   "language": "python",
   "name": "python3"
  },
  "language_info": {
   "codemirror_mode": {
    "name": "ipython",
    "version": 3
   },
   "file_extension": ".py",
   "mimetype": "text/x-python",
   "name": "python",
   "nbconvert_exporter": "python",
   "pygments_lexer": "ipython3",
   "version": "3.6.7"
  }
 },
 "nbformat": 4,
 "nbformat_minor": 2
}
